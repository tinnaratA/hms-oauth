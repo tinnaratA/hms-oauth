{
 "cells": [
  {
   "cell_type": "markdown",
   "metadata": {},
   "source": [
    "\n",
    "\n",
    "# OAuth2 Basic Installation on Django\n",
    "\n",
    "***\n",
    "\n"
   ]
  },
  {
   "cell_type": "markdown",
   "metadata": {},
   "source": [
    "## Table of Contents\n",
    "  * [Concept](#Concept)\n",
    "  * [Requirements](#Requirements)\n",
    "  * [Installation](#Installation)\n",
    "  * [Server-creation Methodology](#createServer)\n",
    "  * [Client-creation Methodology](#createClient)"
   ]
  },
  {
   "cell_type": "markdown",
   "metadata": {},
   "source": [
    "## Concept\n",
    "\n"
   ]
  },
  {
   "cell_type": "markdown",
   "metadata": {},
   "source": [
    "    OAuth is an open standard for authorization, commonly used as a way for Internet users to log into third party websites using their central accounts without exposing their password. In GLS, we are using OAuth in the centroid called \"AAS\" for the third party application such as TrakCare Addons, E-Clinical to be able to use single password."
   ]
  },
  {
   "cell_type": "markdown",
   "metadata": {},
   "source": [
    "## Requirements"
   ]
  },
  {
   "cell_type": "markdown",
   "metadata": {},
   "source": [
    "#### Server"
   ]
  },
  {
   "cell_type": "markdown",
   "metadata": {},
   "source": [
    "    1. Python 3.4.3 (MiniConda 3.16.0 is recommended)\n",
    "    2. Django 1.9\n",
    "    3. django-oauth-toolkit\n",
    "    4. django-rest-framework\n",
    "    5. django-rest-swagger (For documentation)"
   ]
  },
  {
   "cell_type": "markdown",
   "metadata": {},
   "source": [
    "#### Client"
   ]
  },
  {
   "cell_type": "markdown",
   "metadata": {},
   "source": [
    "    1. Python 3.0 or above (MiniConda is recommended) or node.js (For Node Developers)\n"
   ]
  },
  {
   "cell_type": "markdown",
   "metadata": {},
   "source": [
    "## Installation"
   ]
  },
  {
   "cell_type": "markdown",
   "metadata": {},
   "source": [
    "#### Python (Select One)"
   ]
  },
  {
   "cell_type": "code",
   "execution_count": null,
   "metadata": {
    "collapsed": true
   },
   "outputs": [],
   "source": [
    "install miniconda"
   ]
  },
  {
   "cell_type": "markdown",
   "metadata": {},
   "source": [
    "#### Django (Select One)"
   ]
  },
  {
   "cell_type": "code",
   "execution_count": 1,
   "metadata": {
    "collapsed": false,
    "scrolled": true
   },
   "outputs": [
    {
     "ename": "SyntaxError",
     "evalue": "invalid syntax (<ipython-input-1-f3c70c2d2d07>, line 1)",
     "output_type": "error",
     "traceback": [
      "\u001b[1;36m  File \u001b[1;32m\"<ipython-input-1-f3c70c2d2d07>\"\u001b[1;36m, line \u001b[1;32m1\u001b[0m\n\u001b[1;33m    conda install django\u001b[0m\n\u001b[1;37m                ^\u001b[0m\n\u001b[1;31mSyntaxError\u001b[0m\u001b[1;31m:\u001b[0m invalid syntax\n"
     ]
    }
   ],
   "source": [
    "conda install django"
   ]
  },
  {
   "cell_type": "markdown",
   "metadata": {},
   "source": [
    "#### django-oauth-toolkit"
   ]
  },
  {
   "cell_type": "markdown",
   "metadata": {},
   "source": [
    "is a library for OAuth2, easy to use and straightforward"
   ]
  },
  {
   "cell_type": "code",
   "execution_count": null,
   "metadata": {
    "collapsed": true
   },
   "outputs": [],
   "source": [
    "conda install django-oauth-toolkit    "
   ]
  },
  {
   "cell_type": "markdown",
   "metadata": {},
   "source": [
    "#### django-rest-framework"
   ]
  },
  {
   "cell_type": "code",
   "execution_count": null,
   "metadata": {
    "collapsed": true
   },
   "outputs": [],
   "source": [
    "conda install djangorestframework"
   ]
  },
  {
   "cell_type": "markdown",
   "metadata": {},
   "source": [
    "<a name=\"createServer\"></a>\n",
    "## Server-creation Methodology"
   ]
  },
  {
   "cell_type": "markdown",
   "metadata": {},
   "source": [
    "#### Django Environment Preparation"
   ]
  },
  {
   "cell_type": "code",
   "execution_count": 3,
   "metadata": {
    "collapsed": true
   },
   "outputs": [
    {
     "ename": "SyntaxError",
     "evalue": "invalid syntax (<ipython-input-3-7e3e1d6103ff>, line 1)",
     "output_type": "error",
     "traceback": [
      "\u001b[1;36m  File \u001b[1;32m\"<ipython-input-3-7e3e1d6103ff>\"\u001b[1;36m, line \u001b[1;32m1\u001b[0m\n\u001b[1;33m    django-admin startproject hms-oauth\u001b[0m\n\u001b[1;37m                            ^\u001b[0m\n\u001b[1;31mSyntaxError\u001b[0m\u001b[1;31m:\u001b[0m invalid syntax\n"
     ]
    }
   ],
   "source": [
    "django-admin startproject hms-oauth"
   ]
  },
  {
   "cell_type": "code",
   "execution_count": 4,
   "metadata": {
    "collapsed": true
   },
   "outputs": [
    {
     "name": "stdout",
     "output_type": "stream",
     "text": [
      "[WinError 2] The system cannot find the file specified: 'hms-oauth'\n",
      "C:\\Users\\Chailuck.Ch\\Desktop\\GLS-HMS\\hms-oauth\\tutorial\n"
     ]
    }
   ],
   "source": [
    "cd hms-oauth"
   ]
  },
  {
   "cell_type": "code",
   "execution_count": 5,
   "metadata": {
    "collapsed": true
   },
   "outputs": [
    {
     "ename": "SyntaxError",
     "evalue": "invalid syntax (<ipython-input-5-cd3823dcb5cd>, line 1)",
     "output_type": "error",
     "traceback": [
      "\u001b[1;36m  File \u001b[1;32m\"<ipython-input-5-cd3823dcb5cd>\"\u001b[1;36m, line \u001b[1;32m1\u001b[0m\n\u001b[1;33m    python manage.py migrate\u001b[0m\n\u001b[1;37m                ^\u001b[0m\n\u001b[1;31mSyntaxError\u001b[0m\u001b[1;31m:\u001b[0m invalid syntax\n"
     ]
    }
   ],
   "source": [
    "python manage.py migrate"
   ]
  },
  {
   "cell_type": "code",
   "execution_count": null,
   "metadata": {
    "collapsed": true
   },
   "outputs": [],
   "source": [
    "python manage.py runserver"
   ]
  },
  {
   "cell_type": "markdown",
   "metadata": {},
   "source": [
    "using webbrowser to localhost:8000"
   ]
  },
  {
   "cell_type": "markdown",
   "metadata": {},
   "source": [
    "#### Django Setting"
   ]
  },
  {
   "cell_type": "markdown",
   "metadata": {},
   "source": [
    "##### 1. Create Super User on Django"
   ]
  },
  {
   "cell_type": "code",
   "execution_count": 6,
   "metadata": {
    "collapsed": false
   },
   "outputs": [
    {
     "ename": "SyntaxError",
     "evalue": "invalid syntax (<ipython-input-6-fcfe38f02d6e>, line 1)",
     "output_type": "error",
     "traceback": [
      "\u001b[1;36m  File \u001b[1;32m\"<ipython-input-6-fcfe38f02d6e>\"\u001b[1;36m, line \u001b[1;32m1\u001b[0m\n\u001b[1;33m    python manage.py createsuperuser\u001b[0m\n\u001b[1;37m                ^\u001b[0m\n\u001b[1;31mSyntaxError\u001b[0m\u001b[1;31m:\u001b[0m invalid syntax\n"
     ]
    }
   ],
   "source": [
    "python manage.py createsuperuser"
   ]
  },
  {
   "cell_type": "markdown",
   "metadata": {},
   "source": [
    "Then, Go to http://localhost:8000/admin/ and create sample user in the database"
   ]
  },
  {
   "cell_type": "markdown",
   "metadata": {},
   "source": [
    "##### 2. Added these lines of code to url.py"
   ]
  },
  {
   "cell_type": "code",
   "execution_count": null,
   "metadata": {
    "collapsed": true
   },
   "outputs": [],
   "source": [
    "from django.conf.urls import url, patterns, include\n",
    "from django.contrib.auth.models import User, Group\n",
    "from django.contrib import admin\n",
    "admin.autodiscover()\n",
    "\n",
    "from rest_framework import permissions, routers, serializers, viewsets\n",
    "\n",
    "from oauth2_provider.ext.rest_framework import TokenHasReadWriteScope, TokenHasScope\n",
    "\n",
    "\n",
    "# first we define the serializersn\n",
    "class UserSerializer(serializers.ModelSerializer):\n",
    "    class Meta:\n",
    "        model = User\n",
    "\n",
    "# ViewSets define the view behavior.\n",
    "class UserViewSet(viewsets.ModelViewSet):\n",
    "    permission_classes = [permissions.IsAuthenticated, TokenHasReadWriteScope]\n",
    "    queryset = User.objects.all()\n",
    "    serializer_class = UserSerializer\n",
    "\n",
    "\n",
    "\n",
    "# Routers provide an easy way of automatically determining the URL conf\n",
    "router = routers.DefaultRouter()\n",
    "router.register(r'users', UserViewSet)\n",
    "\n",
    "\n",
    "# Wire up our API using automatic URL routing.\n",
    "# Additionally, we include login URLs for the browseable API.\n",
    "urlpatterns = patterns('',\n",
    "    url(r'^', include(router.urls)),\n",
    "    url(r'^o/', include('oauth2_provider.urls', namespace='oauth2_provider')),\n",
    "    url(r'^admin/', include(admin.site.urls)),\n",
    "    url(r'^docs/', include('rest_framework_swagger.urls')),\n",
    ")"
   ]
  },
  {
   "cell_type": "markdown",
   "metadata": {},
   "source": [
    "These lines of code is for url construction. urlpatterns is the url controller. r is an abbreviation of regex.\n",
    "\n",
    "url(r'^admin/', include(admin.site.urls)),  every url that started with \"admin/\" will be redirected to admin.site.urls"
   ]
  },
  {
   "cell_type": "markdown",
   "metadata": {},
   "source": [
    "##### 3. Change settings.py"
   ]
  },
  {
   "cell_type": "markdown",
   "metadata": {},
   "source": [
    "1.Added these lines to INSTALLED_APPS (to let django knows what is already installed."
   ]
  },
  {
   "cell_type": "code",
   "execution_count": null,
   "metadata": {
    "collapsed": true
   },
   "outputs": [],
   "source": [
    "'oauth2_provider',\n",
    "'rest_framework',\n",
    "'rest_framework_swagger',"
   ]
  },
  {
   "cell_type": "markdown",
   "metadata": {},
   "source": [
    "2.Added these lines to setting.py to initialise the service"
   ]
  },
  {
   "cell_type": "code",
   "execution_count": null,
   "metadata": {
    "collapsed": true
   },
   "outputs": [],
   "source": [
    "OAUTH2_PROVIDER = {\n",
    "    # this is the list of available scopes\n",
    "    'SCOPES': {'read': 'Read scope', 'write': 'Write scope', 'groups': 'Access to your groups'}\n",
    "}\n",
    "\n",
    "\n",
    "REST_FRAMEWORK = {\n",
    "    'DEFAULT_AUTHENTICATION_CLASSES': (\n",
    "#      'rest_framework.permissions.IsAuthenticated',\n",
    "      'oauth2_provider.ext.rest_framework.OAuth2Authentication',\n",
    "    )\n",
    "}\n"
   ]
  },
  {
   "cell_type": "markdown",
   "metadata": {},
   "source": [
    "##### 4. Run Server and result checking"
   ]
  },
  {
   "cell_type": "code",
   "execution_count": 5,
   "metadata": {
    "collapsed": true
   },
   "outputs": [
    {
     "ename": "SyntaxError",
     "evalue": "invalid syntax (<ipython-input-5-cd3823dcb5cd>, line 1)",
     "output_type": "error",
     "traceback": [
      "\u001b[1;36m  File \u001b[1;32m\"<ipython-input-5-cd3823dcb5cd>\"\u001b[1;36m, line \u001b[1;32m1\u001b[0m\n\u001b[1;33m    python manage.py migrate\u001b[0m\n\u001b[1;37m                ^\u001b[0m\n\u001b[1;31mSyntaxError\u001b[0m\u001b[1;31m:\u001b[0m invalid syntax\n"
     ]
    }
   ],
   "source": [
    "python manage.py migrate"
   ]
  },
  {
   "cell_type": "code",
   "execution_count": null,
   "metadata": {
    "collapsed": true
   },
   "outputs": [],
   "source": [
    "python manage.py runserver"
   ]
  },
  {
   "cell_type": "markdown",
   "metadata": {},
   "source": [
    "Then, Go to http://localhost:8000/users and voila! find out it is unauthorised to be viewed.\n",
    "\n",
    "to be able to view the data for testing purpose, comment out the \n",
    "    > permission_classes = [permissions.IsAuthenticated, TokenHasReadWriteScope]\n",
    "in url.py"
   ]
  },
  {
   "cell_type": "markdown",
   "metadata": {},
   "source": [
    "<a name=\"createClient\"></a>\n",
    "## Client-creation Methodology"
   ]
  },
  {
   "cell_type": "markdown",
   "metadata": {},
   "source": [
    "It is mandatory for the client to get the tokens from the OAuth before accessing the server to get the user data. Here is the brief instruction on how to get the authorised data from OAuth.\n",
    "\n",
    "    1. Get the token by login to the server using your username and password. However there are client_id and client_secret to higher the based security.\n",
    "    2. Use the tokens to get the RestFul data\n",
    "    "
   ]
  },
  {
   "cell_type": "markdown",
   "metadata": {},
   "source": [
    "Here is the thorough steps:\n",
    "    1. running the django server\n",
    "    2. access to http://localhost:8000/admin/\n",
    "    3. Under the [DJANGO OAUTH TOOLKIT], add the application\n",
    "    4. Set as Resource-Owner Password based and create\n",
    "    5. remember the client_id and client secret\n",
    "    6. access to 'http://localhost:8000/o/token/?grant_type=password&username=xxxxx&password=xxxxx&client_id=xxxxx&client_secret=xxxxx' using your own information (via curl is recommended)\n",
    "    7. You would get an authoisation token from step 6, keep it.\n",
    "    8. access to the http://localhost:8000/users/ by using \n",
    "    \n",
    "    headers: {\n",
    "             'Authorization': 'bearer '+access_token\n",
    "            }\n",
    "            \n",
    "     9. HooraY! you have done the authorisation!\n",
    "     \n",
    "The code below is a node.js which is written as an example:"
   ]
  },
  {
   "cell_type": "code",
   "execution_count": 3,
   "metadata": {
    "collapsed": false
   },
   "outputs": [
    {
     "ename": "SyntaxError",
     "evalue": "invalid syntax (<ipython-input-3-1ae0267e5a45>, line 1)",
     "output_type": "error",
     "traceback": [
      "\u001b[1;36m  File \u001b[1;32m\"<ipython-input-3-1ae0267e5a45>\"\u001b[1;36m, line \u001b[1;32m1\u001b[0m\n\u001b[1;33m    var http = require('http');\u001b[0m\n\u001b[1;37m           ^\u001b[0m\n\u001b[1;31mSyntaxError\u001b[0m\u001b[1;31m:\u001b[0m invalid syntax\n"
     ]
    }
   ],
   "source": [
    "var http = require('http');\n",
    " \n",
    "// Set the headers\n",
    "var headers = {\n",
    "    'User-Agent':       'Super Agent/0.0.1',\n",
    "    'Content-Type':     'application/x-www-form-urlencoded'\n",
    "}\n",
    " \n",
    "// Configure the request\n",
    "var options = {\n",
    "    method: 'POST',\n",
    "    host: '127.0.0.1',\n",
    "    port: '8000',\n",
    "    path: '/o/token/?grant_type=password&username=admin&password=admin@1234&client_id=oNqcvFrINsdc5l2vJxkYRKtBBg6TWr0ktJN0tSBV&client_secret=Bhc5wl09ih34MC8EEoJzrFukBNayZ7egQP4Zyzi6xtFqtGzXqFhQPBXXxRRkfMZ7swUB6Tf4f3rm2G6zJFXrrMP8OHoeXHKYsmgbIHAZa8YeVvkdm1mVJdeark7XwTMI'\n",
    "    }\n",
    "// Start the request\n",
    "var request =  http.request(options, function (res) {\n",
    "//var request = http.request(uri, function(res) {\n",
    "  var chunks = [];\n",
    "   \n",
    "  res.on(\"data\", function (chunk) {\n",
    "    chunks.push(chunk);\n",
    "    //console.log(\"response.dsta=\"+)\n",
    "   // console.log(chunks.)\n",
    "  });\n",
    "\n",
    "  res.on(\"end\", function () {\n",
    "    var body = Buffer.concat(chunks);\n",
    "    console.log(body.toString());\n",
    "\n",
    "    var json = JSON.parse(body)\n",
    "\n",
    "    var access_token = json.access_token;\n",
    "    console.log(\"RECEIVED->ACCESS_TOKEN:\"+json.access_token);\n",
    "   // var user_url = \"http://çΩΩ8000/users\"\n",
    "    var userapi_options =  {\n",
    "         method: 'GET',\n",
    "         host: '127.0.0.1',\n",
    "         port: '8000',\n",
    "         path: '/groups/',\n",
    "         headers: {\n",
    "             'Authorization': 'bearer '+access_token\n",
    "            }\n",
    "    };\n",
    "\n",
    "    //var users_http_request = http.request(userapi_options, function(res) {\n",
    "      var users_http_request = http.request(userapi_options, function(res) {\n",
    "        users_http_request.auth = 'Bearer '+access_token;\n",
    "       // console.log('request url:'+users_http_request.url);\n",
    "        var user_chunks =[];\n",
    "        \n",
    "        res.on(\"data\", function(chunk){\n",
    "            user_chunks.push(chunk);\n",
    "            //console.log(\"users_http_request.ondata.chunk\"+chunk);\n",
    "        });\n",
    "\n",
    "\n",
    "        res.on(\"end\", function(){\n",
    "          var body = Buffer.concat(user_chunks);\n",
    "          console.log(\"users_http_request.end\");\n",
    "        });\n",
    "      //\n",
    "    });\n",
    "    users_http_request.on('error', function(e){\n",
    "      if (e)\n",
    "           throw(e);\n",
    "      //TODO:\n",
    "    });\n",
    "    users_http_request.end();\n",
    "   \n",
    "\n",
    "  });\n",
    "});\n",
    "\n",
    "request.end();"
   ]
  }
 ],
 "metadata": {
  "kernelspec": {
   "display_name": "Python 3",
   "language": "python",
   "name": "python3"
  },
  "language_info": {
   "codemirror_mode": {
    "name": "ipython",
    "version": 3
   },
   "file_extension": ".py",
   "mimetype": "text/x-python",
   "name": "python",
   "nbconvert_exporter": "python",
   "pygments_lexer": "ipython3",
   "version": "3.5.1"
  }
 },
 "nbformat": 4,
 "nbformat_minor": 0
}
