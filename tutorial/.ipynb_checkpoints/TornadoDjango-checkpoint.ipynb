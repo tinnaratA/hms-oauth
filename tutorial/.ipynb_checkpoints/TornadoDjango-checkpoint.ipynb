{
 "cells": [
  {
   "cell_type": "markdown",
   "metadata": {},
   "source": [
    "# Tornado with Django "
   ]
  },
  {
   "cell_type": "markdown",
   "metadata": {},
   "source": [
    "    Tornado is a web server which is running in the nonblocking manner (failure or suspension of any thread cannot cause failure or suspension of another thread). The non blocking is also making the I/O task done later while doing something else. This is the way of the best resources utilisations."
   ]
  },
  {
   "cell_type": "markdown",
   "metadata": {},
   "source": [
    "## Table of Contents\n",
    "  * [Requirements](#Requirements)\n",
    "  * [Get Started](#Get-Started)"
   ]
  },
  {
   "cell_type": "markdown",
   "metadata": {},
   "source": [
    "## Requirement"
   ]
  },
  {
   "cell_type": "markdown",
   "metadata": {},
   "source": [
    "         Tornado"
   ]
  },
  {
   "cell_type": "markdown",
   "metadata": {},
   "source": [
    "\n",
    "## Get Started "
   ]
  },
  {
   "cell_type": "markdown",
   "metadata": {},
   "source": [
    "Create new file in the project folder : tornadoServer.py \n",
    "here is the code:\n"
   ]
  },
  {
   "cell_type": "code",
   "execution_count": null,
   "metadata": {
    "collapsed": true
   },
   "outputs": [],
   "source": [
    "import os\n",
    "import tornado.httpserver\n",
    "import tornado.ioloop\n",
    "import tornado.wsgi\n",
    "from django.core.wsgi import get_wsgi_application\n",
    "\n",
    "def main():\n",
    "    os.environ['DJANGO_SETTINGS_MODULE'] = 'project.settings'\n",
    "    application = get_wsgi_application()\n",
    "    container = tornado.wsgi.WSGIContainer(application)\n",
    "    http_server = tornado.httpserver.HTTPServer(container)\n",
    "    http_server.listen(8888)\n",
    "    tornado.ioloop.IOLoop.instance().start()\n",
    "\n",
    "if __name__ == \"__main__\":\n",
    "    main()\n"
   ]
  },
  {
   "cell_type": "markdown",
   "metadata": {},
   "source": [
    "from the code, you have to setting the project.setting\n",
    "\n",
    "    WSGI is the Web Server Gateway Interface. It is a specification that describes how a web server communicates with web applications, and how web applications can be chained together to process one request.\n",
    "    \n",
    "In order to run the server, tornado has to get into the WSGI of the Django that has been well written in the standard form. Then, django use the main method called \"IOLoop\" to start the service."
   ]
  }
 ],
 "metadata": {
  "kernelspec": {
   "display_name": "Python 3",
   "language": "python",
   "name": "python3"
  },
  "language_info": {
   "codemirror_mode": {
    "name": "ipython",
    "version": 3
   },
   "file_extension": ".py",
   "mimetype": "text/x-python",
   "name": "python",
   "nbconvert_exporter": "python",
   "pygments_lexer": "ipython3",
   "version": "3.5.1"
  }
 },
 "nbformat": 4,
 "nbformat_minor": 0
}
